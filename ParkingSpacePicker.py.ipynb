{
 "cells": [
  {
   "cell_type": "code",
   "execution_count": 1,
   "id": "6ffe38f4",
   "metadata": {},
   "outputs": [
    {
     "ename": "KeyboardInterrupt",
     "evalue": "",
     "output_type": "error",
     "traceback": [
      "\u001b[1;31m---------------------------------------------------------------------------\u001b[0m",
      "\u001b[1;31mKeyboardInterrupt\u001b[0m                         Traceback (most recent call last)",
      "Cell \u001b[1;32mIn[1], line 33\u001b[0m\n\u001b[0;32m     31\u001b[0m cv2\u001b[38;5;241m.\u001b[39mimshow(\u001b[38;5;124m\"\u001b[39m\u001b[38;5;124mImage\u001b[39m\u001b[38;5;124m\"\u001b[39m, img)\n\u001b[0;32m     32\u001b[0m cv2\u001b[38;5;241m.\u001b[39msetMouseCallback(\u001b[38;5;124m\"\u001b[39m\u001b[38;5;124mImage\u001b[39m\u001b[38;5;124m\"\u001b[39m, mouseClick)\n\u001b[1;32m---> 33\u001b[0m \u001b[43mcv2\u001b[49m\u001b[38;5;241;43m.\u001b[39;49m\u001b[43mwaitKey\u001b[49m\u001b[43m(\u001b[49m\u001b[38;5;241;43m1\u001b[39;49m\u001b[43m)\u001b[49m\n",
      "\u001b[1;31mKeyboardInterrupt\u001b[0m: "
     ]
    }
   ],
   "source": [
    "import cv2\n",
    "import pickle\n",
    "\n",
    "width, height = 107, 48\n",
    "\n",
    "try:\n",
    "    with open('CarParkPos', 'rb') as f:\n",
    "        posList = pickle.load(f)\n",
    "except:\n",
    "    posList = []\n",
    "\n",
    "\n",
    "def mouseClick(events, x, y, flags, params):\n",
    "    if events == cv2.EVENT_LBUTTONDOWN:\n",
    "        posList.append((x, y))\n",
    "    if events == cv2.EVENT_RBUTTONDOWN:\n",
    "        for i, pos in enumerate(posList):\n",
    "            x1, y1 = pos\n",
    "            if x1 < x < x1 + width and y1 < y < y1 + height:\n",
    "                posList.pop(i)\n",
    "\n",
    "    with open('CarParkPos', 'wb') as f:\n",
    "        pickle.dump(posList, f)\n",
    "\n",
    "\n",
    "while True:\n",
    "    img = cv2.imread('carParkImg.png')\n",
    "    for pos in posList:\n",
    "        cv2.rectangle(img, pos, (pos[0] + width, pos[1] + height), (255, 0, 255), 2)\n",
    "\n",
    "    cv2.imshow(\"Image\", img)\n",
    "    cv2.setMouseCallback(\"Image\", mouseClick)\n",
    "    cv2.waitKey(1)"
   ]
  },
  {
   "cell_type": "code",
   "execution_count": null,
   "id": "606d3a02",
   "metadata": {},
   "outputs": [],
   "source": []
  }
 ],
 "metadata": {
  "kernelspec": {
   "display_name": "Python 3 (ipykernel)",
   "language": "python",
   "name": "python3"
  },
  "language_info": {
   "codemirror_mode": {
    "name": "ipython",
    "version": 3
   },
   "file_extension": ".py",
   "mimetype": "text/x-python",
   "name": "python",
   "nbconvert_exporter": "python",
   "pygments_lexer": "ipython3",
   "version": "3.11.3"
  }
 },
 "nbformat": 4,
 "nbformat_minor": 5
}
